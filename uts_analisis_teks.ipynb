{
 "cells": [
  {
   "cell_type": "markdown",
   "id": "07250ecc-8220-45b2-a5a3-fff649932126",
   "metadata": {},
   "source": [
    "# UTS Analisis Teks\n",
    "# Eko Ikhwan Saputra\n",
    "\n",
    "Link github : https://github.com/ulung3ko/uts-analisis-teks"
   ]
  },
  {
   "cell_type": "code",
   "execution_count": 1,
   "id": "3a17294e-2fbf-45e8-92f4-58880c8f2ace",
   "metadata": {},
   "outputs": [],
   "source": [
    "# Import Library yang diubutuhkan\n",
    "import pandas as pd\n",
    "import numpy as np\n",
    "import matplotlib as plt\n",
    "import re\n",
    "from sklearn.feature_extraction.text import TfidfVectorizer\n",
    "from gensim.models import Word2Vec\n",
    "import nltk\n",
    "from Sastrawi.Stemmer.StemmerFactory import StemmerFactory\n",
    "import stopwords\n",
    "from nltk.corpus import stopwords\n",
    "from nltk.tokenize import word_tokenize\n",
    "import seaborn as sns\n",
    "from wordcloud import WordCloud\n",
    "from collections import Counter\n",
    "import matplotlib.pyplot as plt\n",
    "from sklearn.metrics import confusion_matrix\n",
    "from sklearn.model_selection import GridSearchCV\n",
    "from sklearn.model_selection import train_test_split\n",
    "from sklearn.svm import SVC"
   ]
  },
  {
   "cell_type": "markdown",
   "id": "b21bcf0c-9bc3-4b7b-b399-9a8738499fe3",
   "metadata": {},
   "source": [
    "# Bagian 0\n",
    "# Artikel Terkini\n",
    "Artikel yang diangkat berjudul \"Pemain Timnas Indonesia Terbang ke Bali, Bersiap Bela Garuda\" dari CNN Indonesia. Artikel berisi kabar terbaru tentang persiapan Timnas Indonesia untuk Kualifikasi Piala Dunia 2026.  \n",
    "Sumber : https://www.cnnindonesia.com/olahraga/20250525071942-142-1232869/pemain-timnas-indonesia-terbang-ke-bali-bersiap-bela-garuda\n",
    "\n",
    "# Isu Permasalahan\n",
    "Topik Timnas Indonesia secara konsisten menjadi perhatian publik di media sosial terutama menjelang pertandingan. Di balik semangat dukungan, muncul juga kritik terhadap performa pemain, strategi pelatih, dan keputusan federasi. Cara konvensional susah untuk memahami kecenderungan sentimen publik.\n",
    "\n",
    "# Solusi dengan Klasifikasi Teks\n",
    "Permasalahan ini dapat diselesaikan dengan membangun model klasifikasi teks yang secara otomatis mengidentifikasi sentimen publik (positif atau negatif) terhadap Timnas Indonesia. Model akan membantu dalam menganalisis opini masyarakat secara cepat dan sistematis sebagai bahan evaluasi dan strategi komunikasi publik.\n"
   ]
  },
  {
   "cell_type": "markdown",
   "id": "4eef48c9-e1fb-43e8-8fa6-1389925a6310",
   "metadata": {},
   "source": [
    "# Bagian 1\n",
    "Dataset yang digunakan adalah \"Analisis Sentimen Timnas Sepakbola di Era STY\" dari Kaggle, terdiri dari.\n",
    "- 398 baris data.\n",
    "- 2 kolom: komentar dan label.\n",
    "- Label berupa positive dan negative.\n",
    "\n",
    "Memang judul dataset menyebut era STY,  tapi dataset ini tetap relevan karena berisi opini publik terhadap Timnas secara umum.\n",
    "\n",
    "Sumber : https://www.kaggle.com/datasets/pajarbebek/analisis-sentimen-timnas-sepakbola-di-era-sty"
   ]
  },
  {
   "cell_type": "code",
   "execution_count": 2,
   "id": "531412b1-a0f4-45a0-9360-b90ea5ba5c05",
   "metadata": {},
   "outputs": [
    {
     "data": {
      "text/html": [
       "<div>\n",
       "<style scoped>\n",
       "    .dataframe tbody tr th:only-of-type {\n",
       "        vertical-align: middle;\n",
       "    }\n",
       "\n",
       "    .dataframe tbody tr th {\n",
       "        vertical-align: top;\n",
       "    }\n",
       "\n",
       "    .dataframe thead th {\n",
       "        text-align: right;\n",
       "    }\n",
       "</style>\n",
       "<table border=\"1\" class=\"dataframe\">\n",
       "  <thead>\n",
       "    <tr style=\"text-align: right;\">\n",
       "      <th></th>\n",
       "      <th>komentar</th>\n",
       "      <th>label</th>\n",
       "    </tr>\n",
       "  </thead>\n",
       "  <tbody>\n",
       "    <tr>\n",
       "      <th>0</th>\n",
       "      <td>&lt;username&gt; Simulasi indonesia kembali dijajah ...</td>\n",
       "      <td>negatif</td>\n",
       "    </tr>\n",
       "    <tr>\n",
       "      <th>1</th>\n",
       "      <td>&lt;username&gt; &lt;username&gt; &lt;username&gt; keturunan lai...</td>\n",
       "      <td>negatif</td>\n",
       "    </tr>\n",
       "    <tr>\n",
       "      <th>2</th>\n",
       "      <td>&lt;username&gt; &lt;username&gt; uda botak keturunan penj...</td>\n",
       "      <td>negatif</td>\n",
       "    </tr>\n",
       "    <tr>\n",
       "      <th>3</th>\n",
       "      <td>&lt;username&gt; &lt;username&gt; &lt;username&gt; Belum tentu, ...</td>\n",
       "      <td>negatif</td>\n",
       "    </tr>\n",
       "    <tr>\n",
       "      <th>4</th>\n",
       "      <td>&lt;username&gt; &lt;username&gt; &lt;username&gt; Lu nya aja yg...</td>\n",
       "      <td>negatif</td>\n",
       "    </tr>\n",
       "  </tbody>\n",
       "</table>\n",
       "</div>"
      ],
      "text/plain": [
       "                                            komentar    label\n",
       "0  <username> Simulasi indonesia kembali dijajah ...  negatif\n",
       "1  <username> <username> <username> keturunan lai...  negatif\n",
       "2  <username> <username> uda botak keturunan penj...  negatif\n",
       "3  <username> <username> <username> Belum tentu, ...  negatif\n",
       "4  <username> <username> <username> Lu nya aja yg...  negatif"
      ]
     },
     "execution_count": 2,
     "metadata": {},
     "output_type": "execute_result"
    }
   ],
   "source": [
    "# Baca dan lihat 5 baris dataser\n",
    "df = pd.read_csv('data_sentiment_timnas.csv')\n",
    "df.head()"
   ]
  },
  {
   "cell_type": "code",
   "execution_count": 3,
   "id": "54a3c521-91df-42ff-b26e-13d40297ea94",
   "metadata": {},
   "outputs": [
    {
     "name": "stdout",
     "output_type": "stream",
     "text": [
      "Jumlah kategori unik dalam kolom 'label': 2\n",
      "Kategori unik dalam kolom 'label': ['negatif' 'positif']\n",
      "\n",
      "Informasi Dataset:\n",
      "<class 'pandas.core.frame.DataFrame'>\n",
      "RangeIndex: 398 entries, 0 to 397\n",
      "Data columns (total 2 columns):\n",
      " #   Column    Non-Null Count  Dtype \n",
      "---  ------    --------------  ----- \n",
      " 0   komentar  398 non-null    object\n",
      " 1   label     398 non-null    object\n",
      "dtypes: object(2)\n",
      "memory usage: 6.3+ KB\n",
      "\n",
      "Deskripsi Statistik Dataset:\n",
      "                                                 komentar    label\n",
      "count                                                 398      398\n",
      "unique                                                393        2\n",
      "top     <username> Dendy sama arhan punya aib nya sty ...  positif\n",
      "freq                                                    2      204\n"
     ]
    }
   ],
   "source": [
    "# Melihat statistik dasar dataset\n",
    "jumlah_kategori = df['label'].nunique()\n",
    "print(f\"Jumlah kategori unik dalam kolom 'label': {jumlah_kategori}\")\n",
    "\n",
    "kategori_unik = df['label'].unique()\n",
    "print(f\"Kategori unik dalam kolom 'label': {kategori_unik}\")\n",
    "\n",
    "print(\"\\nInformasi Dataset:\")\n",
    "df.info()\n",
    "\n",
    "print(\"\\nDeskripsi Statistik Dataset:\")\n",
    "print(df.describe(include='all'))"
   ]
  }
 ],
 "metadata": {
  "kernelspec": {
   "display_name": "Python 3 (ipykernel)",
   "language": "python",
   "name": "python3"
  },
  "language_info": {
   "codemirror_mode": {
    "name": "ipython",
    "version": 3
   },
   "file_extension": ".py",
   "mimetype": "text/x-python",
   "name": "python",
   "nbconvert_exporter": "python",
   "pygments_lexer": "ipython3",
   "version": "3.10.16"
  }
 },
 "nbformat": 4,
 "nbformat_minor": 5
}
